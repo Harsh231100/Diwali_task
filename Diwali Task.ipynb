{
 "cells": [
  {
   "cell_type": "markdown",
   "id": "33259a7f",
   "metadata": {},
   "source": [
    "# Diwali Task - Patterns"
   ]
  },
  {
   "cell_type": "markdown",
   "id": "bb5cfbea",
   "metadata": {},
   "source": [
    "# Pattern-11"
   ]
  },
  {
   "cell_type": "code",
   "execution_count": 1,
   "id": "0f2855a9",
   "metadata": {},
   "outputs": [],
   "source": [
    "def pattern(r):\n",
    "    for i in range(1, r+1):\n",
    "        for j in range(1,i+1):\n",
    "            print(i, end = ' ')\n",
    "        print()"
   ]
  },
  {
   "cell_type": "code",
   "execution_count": 2,
   "id": "e63e639e",
   "metadata": {},
   "outputs": [
    {
     "name": "stdout",
     "output_type": "stream",
     "text": [
      "1 \n",
      "2 2 \n",
      "3 3 3 \n",
      "4 4 4 4 \n",
      "5 5 5 5 5 \n"
     ]
    }
   ],
   "source": [
    "pattern(5)"
   ]
  },
  {
   "cell_type": "markdown",
   "id": "dedf97d6",
   "metadata": {},
   "source": [
    "# Pattern-12"
   ]
  },
  {
   "cell_type": "code",
   "execution_count": 18,
   "id": "e681672b",
   "metadata": {},
   "outputs": [],
   "source": [
    "def pattern(r):\n",
    "    for i in range(1, r+1):\n",
    "        for j in range(1,i+1):\n",
    "            print(j,end=' ')\n",
    "        print()"
   ]
  },
  {
   "cell_type": "code",
   "execution_count": 19,
   "id": "5de8f017",
   "metadata": {},
   "outputs": [
    {
     "name": "stdout",
     "output_type": "stream",
     "text": [
      "1 \n",
      "1 2 \n",
      "1 2 3 \n",
      "1 2 3 4 \n",
      "1 2 3 4 5 \n"
     ]
    }
   ],
   "source": [
    "pattern(5)"
   ]
  },
  {
   "cell_type": "markdown",
   "id": "bec8a623",
   "metadata": {},
   "source": [
    "# Pattern-13"
   ]
  },
  {
   "cell_type": "code",
   "execution_count": 149,
   "id": "f976541e",
   "metadata": {},
   "outputs": [],
   "source": [
    "def pattern(r):\n",
    "    for i in range(r):\n",
    "        for j in range(i+1):\n",
    "            print(chr(ord('A') + i), end = ' ')\n",
    "        print()"
   ]
  },
  {
   "cell_type": "code",
   "execution_count": 150,
   "id": "729efeef",
   "metadata": {},
   "outputs": [
    {
     "name": "stdout",
     "output_type": "stream",
     "text": [
      "A \n",
      "B B \n",
      "C C C \n",
      "D D D D \n",
      "E E E E E \n"
     ]
    }
   ],
   "source": [
    "pattern(5)"
   ]
  },
  {
   "cell_type": "markdown",
   "id": "1b5422b2",
   "metadata": {},
   "source": [
    "# Pattern-14"
   ]
  },
  {
   "cell_type": "code",
   "execution_count": 11,
   "id": "9909c78b",
   "metadata": {},
   "outputs": [],
   "source": [
    "def pattern(r):\n",
    "    for i in range(1, r+1):\n",
    "        for j in range(1,i+1):\n",
    "            print(chr(ord('A') + j-1), end = ' ')\n",
    "        print()"
   ]
  },
  {
   "cell_type": "code",
   "execution_count": 12,
   "id": "1b5e2d7b",
   "metadata": {
    "scrolled": true
   },
   "outputs": [
    {
     "name": "stdout",
     "output_type": "stream",
     "text": [
      "A \n",
      "A B \n",
      "A B C \n",
      "A B C D \n",
      "A B C D E \n"
     ]
    }
   ],
   "source": [
    "pattern(5)"
   ]
  },
  {
   "cell_type": "markdown",
   "id": "7de8ea85",
   "metadata": {},
   "source": [
    "# Pattern-15"
   ]
  },
  {
   "cell_type": "code",
   "execution_count": 87,
   "id": "abb71e01",
   "metadata": {},
   "outputs": [],
   "source": [
    "def pattern(r):\n",
    "    for i in range(r,0,-1):\n",
    "        for j in range(i):\n",
    "            print('*', end=' ')\n",
    "        print()"
   ]
  },
  {
   "cell_type": "code",
   "execution_count": 88,
   "id": "2b436dae",
   "metadata": {
    "scrolled": true
   },
   "outputs": [
    {
     "name": "stdout",
     "output_type": "stream",
     "text": [
      "* * * * * \n",
      "* * * * \n",
      "* * * \n",
      "* * \n",
      "* \n"
     ]
    }
   ],
   "source": [
    "pattern(5)"
   ]
  },
  {
   "cell_type": "markdown",
   "id": "7880c936",
   "metadata": {},
   "source": [
    "# Pattern-16"
   ]
  },
  {
   "cell_type": "code",
   "execution_count": 194,
   "id": "024aa3d8",
   "metadata": {},
   "outputs": [],
   "source": [
    "def pattern(r):\n",
    "    for i in range(r):\n",
    "        for j in range(r,i,-1):\n",
    "            print(i+1, end = ' ')\n",
    "        print()"
   ]
  },
  {
   "cell_type": "code",
   "execution_count": 195,
   "id": "df87e670",
   "metadata": {},
   "outputs": [
    {
     "name": "stdout",
     "output_type": "stream",
     "text": [
      "1 1 1 1 1 \n",
      "2 2 2 2 \n",
      "3 3 3 \n",
      "4 4 \n",
      "5 \n"
     ]
    }
   ],
   "source": [
    "pattern(5)"
   ]
  },
  {
   "cell_type": "markdown",
   "id": "ef25b58c",
   "metadata": {},
   "source": [
    "# Pattern-17"
   ]
  },
  {
   "cell_type": "code",
   "execution_count": 131,
   "id": "8095def1",
   "metadata": {},
   "outputs": [],
   "source": [
    "def pattern(r):\n",
    "    for i in range(r,0,-1):\n",
    "        for j in range(1,i+1):\n",
    "            print(j,end=' ')\n",
    "        print()"
   ]
  },
  {
   "cell_type": "code",
   "execution_count": 132,
   "id": "529a6350",
   "metadata": {},
   "outputs": [
    {
     "name": "stdout",
     "output_type": "stream",
     "text": [
      "1 2 3 4 5 \n",
      "1 2 3 4 \n",
      "1 2 3 \n",
      "1 2 \n",
      "1 \n"
     ]
    }
   ],
   "source": [
    "pattern(5)"
   ]
  },
  {
   "cell_type": "markdown",
   "id": "ad43e9d9",
   "metadata": {},
   "source": [
    "# Pattern-18"
   ]
  },
  {
   "cell_type": "code",
   "execution_count": 188,
   "id": "e5edf68f",
   "metadata": {},
   "outputs": [],
   "source": [
    "def pattern(r):\n",
    "    for i in range(r):\n",
    "        for j in range(r,i,-1):\n",
    "            print(chr(ord('A') + i), end = ' ')\n",
    "        print()"
   ]
  },
  {
   "cell_type": "code",
   "execution_count": 190,
   "id": "6fcab760",
   "metadata": {
    "scrolled": true
   },
   "outputs": [
    {
     "name": "stdout",
     "output_type": "stream",
     "text": [
      "A A A A A \n",
      "B B B B \n",
      "C C C \n",
      "D D \n",
      "E \n"
     ]
    }
   ],
   "source": [
    "pattern(5)"
   ]
  },
  {
   "cell_type": "markdown",
   "id": "fe97515b",
   "metadata": {},
   "source": [
    "# Pattern-19"
   ]
  },
  {
   "cell_type": "code",
   "execution_count": 153,
   "id": "fb800f5e",
   "metadata": {},
   "outputs": [],
   "source": [
    "def pattern(r):\n",
    "    for i in range(r,0,-1):\n",
    "        for j in range(1,i+1):\n",
    "            print(chr(ord('A') + j-1), end = ' ')\n",
    "        print()"
   ]
  },
  {
   "cell_type": "code",
   "execution_count": 154,
   "id": "81cfa9bc",
   "metadata": {},
   "outputs": [
    {
     "name": "stdout",
     "output_type": "stream",
     "text": [
      "A B C D E \n",
      "A B C D \n",
      "A B C \n",
      "A B \n",
      "A \n"
     ]
    }
   ],
   "source": [
    "pattern(5)"
   ]
  },
  {
   "cell_type": "markdown",
   "id": "ad05ef17",
   "metadata": {},
   "source": [
    "# Pattern-20"
   ]
  },
  {
   "cell_type": "code",
   "execution_count": 67,
   "id": "3b5c31ee",
   "metadata": {},
   "outputs": [],
   "source": [
    "def pattern(r):\n",
    "    for i in range(r,-1,-1):\n",
    "        for j in range(i):\n",
    "            print(i,end=' ')\n",
    "        print()"
   ]
  },
  {
   "cell_type": "code",
   "execution_count": 68,
   "id": "c4d3bfc7",
   "metadata": {},
   "outputs": [
    {
     "name": "stdout",
     "output_type": "stream",
     "text": [
      "5 5 5 5 5 \n",
      "4 4 4 4 \n",
      "3 3 3 \n",
      "2 2 \n",
      "1 \n",
      "\n"
     ]
    }
   ],
   "source": [
    "pattern(5)"
   ]
  }
 ],
 "metadata": {
  "kernelspec": {
   "display_name": "Python 3 (ipykernel)",
   "language": "python",
   "name": "python3"
  },
  "language_info": {
   "codemirror_mode": {
    "name": "ipython",
    "version": 3
   },
   "file_extension": ".py",
   "mimetype": "text/x-python",
   "name": "python",
   "nbconvert_exporter": "python",
   "pygments_lexer": "ipython3",
   "version": "3.11.5"
  }
 },
 "nbformat": 4,
 "nbformat_minor": 5
}
